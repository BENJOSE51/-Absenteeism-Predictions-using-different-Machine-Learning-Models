{
 "cells": [
  {
   "cell_type": "markdown",
   "metadata": {},
   "source": [
    "# Absenteeism Predictions using different Machine Learning Models"
   ]
  },
  {
   "cell_type": "markdown",
   "metadata": {},
   "source": [
    "## Learning Models for predicting absenteeism at workplace"
   ]
  },
  {
   "cell_type": "markdown",
   "metadata": {},
   "source": [
    "## Building Random Forset Classifier"
   ]
  },
  {
   "cell_type": "markdown",
   "metadata": {},
   "source": [
    "**Splitting data to train and test set**"
   ]
  },
  {
   "cell_type": "code",
   "execution_count": 11,
   "metadata": {},
   "outputs": [],
   "source": [
    "X = df.iloc[:, 0:20].values\n",
    "y = df.iloc[:, 20].values"
   ]
  },
  {
   "cell_type": "code",
   "execution_count": 12,
   "metadata": {},
   "outputs": [
    {
     "data": {
      "text/plain": [
       "array([[ 11,  26,   7, ...,  90, 172,  30],\n",
       "       [ 36,   0,   7, ...,  98, 178,  31],\n",
       "       [  3,  23,   7, ...,  89, 170,  31],\n",
       "       ...,\n",
       "       [  4,   0,   0, ...,  98, 170,  34],\n",
       "       [  8,   0,   0, ..., 100, 170,  35],\n",
       "       [ 35,   0,   0, ...,  77, 175,  25]], dtype=int64)"
      ]
     },
     "execution_count": 12,
     "metadata": {},
     "output_type": "execute_result"
    }
   ],
   "source": [
    "X"
   ]
  },
  {
   "cell_type": "code",
   "execution_count": 13,
   "metadata": {},
   "outputs": [
    {
     "data": {
      "text/plain": [
       "array([  4,   0,   2,   4,   2,   2,   8,   4,  40,   8,   8,   8,   8,\n",
       "         1,   4,   8,   8,   8,   2,   8,   1,  40,   4,   8,   7,   1,\n",
       "         4,   8,   2,   8,   8,   4,   8,   2,   1,   8,   4,   8,   4,\n",
       "         2,   4,   4,   8,   2,   3,   3,   4,   8,  32,   0,   0,   2,\n",
       "         2,   0,   0,   3,   3,   0,   1,   3,   4,   3,   3,   0,   1,\n",
       "         3,   3,   2,   2,   5,   8,   3,  16,   8,   2,   8,   1,   3,\n",
       "         1,   1,   8,   8,   5,  32,   8,  40,   8,   3,   8,   3,   4,\n",
       "         1,   3,  24,   3,   1,  64,   2,   8,   2,   8,  56,   8,   3,\n",
       "         3,   2,   2,   8,   2,   1,   1,   1,   8,   2,   2,   2,   1,\n",
       "         2,   2,   2,   2,   2,   2,   8,   8,   0,   1,   3,   1,   8,\n",
       "         8,   2,   8,   2,   8,   8,   8,   2,   2,   1,   8,   3,   8,\n",
       "         1,   1,   8,   2,   8,   3,   8,   8,   8,   8,   3,  40,  40,\n",
       "        16,  16,   8,   8,   8,   4,   1,   8,  24,   2,   8,   1,   8,\n",
       "        16,   3,  16,   2,   3,   1,   1,   1,   1,  24,   1,   2,   4,\n",
       "        24,   1,   3,   8,   1,   8,  56,   8,  24,   8,  16,   3,   0,\n",
       "         8,   2,   1,   8,   8,   4,   2,   1,  24,   0,   0,   0,   0,\n",
       "         1,  24,   8,   8,   8,  24,   4,   8,   8,   4,   8,   8,  16,\n",
       "         1,  80,   8,   2,   2,   2,  16,   8,   8,   4,   8,   8,   2,\n",
       "         8,   8,   3,   8,   8,   8,  32,   8,   0,   8,   3,   1,   8,\n",
       "         1,   2,   4,   4,   1,   8,   1,   3,   2,   1,   1,   8,   8,\n",
       "         8,   8,   3,  24,   0,  16,   3,   0,   0,   8,  32,   1,   4,\n",
       "         4,   8,   1,   0,   3,  40,   8,   8,   4,   8,   8,   0,   0,\n",
       "         8,   3,   8,   1,  64,   0,  16,   3,   0,   2,   1,   4,  16,\n",
       "         1,   8,   0,   0,   0,   5,   5,   1,   8,   2,   8,   3,   1,\n",
       "         8, 120,   8,   0,   1,   3,   2,   3,   8,   4,   8,   1,   8,\n",
       "         8,   0,   0,   1,   3,   2,   1,   3,   1,   4,   8,   1,   1,\n",
       "         1,   8,   2,   8,   4,   8,   2,   3,   8,   5,  32,   2,   1,\n",
       "         4,   8,   8,   8,   4,   1,   1,   2,   3,   1,   3,   3,   3,\n",
       "         2,   8,   8,   3,   8,   3,   2,   2,  16,  24,   8,  16,   2,\n",
       "         4,   2,   8,   8,   8,  16,   8,   0,   8,   2,   3,   8,   0,\n",
       "         0,   0,   8,   8,   8,   2,   4,   3,   4,   4,   4,   8,   8,\n",
       "         1, 120,   8,   4,   4,   2,  16,   2,   8,   3,   4,   1,   3,\n",
       "         2,   3,   8,   3,   8,   2,   1,   8,   3,   3,   2,   4,   4,\n",
       "         0,  40,  24,   3,   4,   8,   2,   2,   2,   8,   2,   2,   1,\n",
       "         8,   2,   4,   8,   8,   8,   8,   4,   8,   8,   1,   2, 112,\n",
       "         1,   1,   8,   8,   8,   1,   2,   4,   1,   4,   4,   8,   8,\n",
       "         4,   4,   8,  16,   4,   1,   5,   2,   3,   1,   3,   2,   2,\n",
       "         8,   1,   4,   1,   2,   8,   8,   1,   3,   8,   3,   2,   2,\n",
       "         2,   1,   2,   8,   3,   4,   8,   3,   1,   1,   8,   1,   8,\n",
       "         3,   8,   8,   8,   0,   3,   1,   3,  24,   1,   8,   8,   8,\n",
       "         4,   8,   2,   2,   3,   1,   8,   8,   2,   0,   0,   4,   0,\n",
       "         2,   8,   2,  32,   1,   3,   1,   3,   4,   2,   8,   8,  16,\n",
       "         2,   3,   2,  80,  24,  16,   2,   2,   3,   2,   8,   3,   2,\n",
       "         8,   2,   3,   8,   3,   2,   8,   3,   8,   2,   3,   2,   2,\n",
       "         2,   2,   2,   2,   8,   3,   3,   3,   2,   2,   3,   3,   2,\n",
       "         8,   5,   3,   2,   2,   2,   2,   2,   2,   2,   3,   3, 112,\n",
       "         2,   2,   3,   2,   3,   3,   8,   8,   2,   4,   2,   3,   8,\n",
       "         2,   8,   2,   3,   2,   3,   3,   8,  24,   3,   3,   2, 104,\n",
       "         8,   8,   8,   8,   8,   8,   2,  24,   2,   3,   2,   2,   8,\n",
       "         8,   3,   4,   8,   2,   8,   3,   2,   3,   8,   1,   2,   8,\n",
       "        64,   8,   2,   2,   3,   1,   0,   2,   0,   1,  48,   8,   8,\n",
       "         8,   3,   8,   2,   8,   2,   8,   8,   1,   8,   3,   8,   8,\n",
       "         8,  24,   8,   2,   0,   0,   3,   2,   2,   3,   3,   8,   2,\n",
       "         3,   3,   4,   2,   8,   4, 120,  16,   2,   8,   8,  80,   8,\n",
       "         4,   0,   0,   0], dtype=int64)"
      ]
     },
     "execution_count": 13,
     "metadata": {},
     "output_type": "execute_result"
    }
   ],
   "source": [
    "y"
   ]
  },
  {
   "cell_type": "code",
   "execution_count": 14,
   "metadata": {},
   "outputs": [],
   "source": [
    "from sklearn.model_selection import train_test_split\n",
    "\n",
    "X_train, X_test, y_train, y_test = train_test_split(X, y, test_size=0.3, random_state=0)"
   ]
  },
  {
   "cell_type": "markdown",
   "metadata": {},
   "source": [
    "**Feature Scaling**"
   ]
  },
  {
   "cell_type": "code",
   "execution_count": 15,
   "metadata": {},
   "outputs": [],
   "source": [
    "from sklearn.preprocessing import MinMaxScaler\n",
    "\n",
    "scaler = MinMaxScaler()\n",
    "X_train = scaler.fit_transform(X_train)\n",
    "X_test = scaler.transform(X_test)"
   ]
  },
  {
   "cell_type": "markdown",
   "metadata": {},
   "source": [
    "**Training the Algorithm**"
   ]
  },
  {
   "cell_type": "code",
   "execution_count": 16,
   "metadata": {},
   "outputs": [],
   "source": [
    "from sklearn.ensemble import RandomForestClassifier\n",
    "clf = RandomForestClassifier(n_estimators=700,max_depth=7, random_state=0)\n",
    "clf.fit(X_train,y_train)\n",
    "y_pred = clf.predict(X_test)\n",
    "y_pred2=clf.predict(X_train)"
   ]
  },
  {
   "cell_type": "markdown",
   "metadata": {},
   "source": [
    "**Evaluating the algorithm**"
   ]
  },
  {
   "cell_type": "code",
   "execution_count": 17,
   "metadata": {},
   "outputs": [
    {
     "name": "stdout",
     "output_type": "stream",
     "text": [
      "Accuracy: 47.16981132075472\n"
     ]
    }
   ],
   "source": [
    "from sklearn import metrics\n",
    "print(\"Accuracy:\",metrics.accuracy_score(y_test, y_pred)*100)"
   ]
  },
  {
   "cell_type": "markdown",
   "metadata": {},
   "source": [
    "**Printing the accuracy of test and train data**"
   ]
  },
  {
   "cell_type": "code",
   "execution_count": 18,
   "metadata": {},
   "outputs": [
    {
     "name": "stdout",
     "output_type": "stream",
     "text": [
      "Random Forest Accuracy on test data: 0.4716981132075472\n"
     ]
    }
   ],
   "source": [
    "print(\"Random Forest Accuracy on test data:\",metrics.accuracy_score(y_test, y_pred))"
   ]
  },
  {
   "cell_type": "code",
   "execution_count": 19,
   "metadata": {},
   "outputs": [
    {
     "name": "stdout",
     "output_type": "stream",
     "text": [
      "Random Forest Accuracy on training data: 0.7267206477732794\n"
     ]
    }
   ],
   "source": [
    "print(\"Random Forest Accuracy on training data:\",metrics.accuracy_score(y_train, y_pred2))"
   ]
  },
  {
   "cell_type": "markdown",
   "metadata": {},
   "source": [
    "**Plotting the test and train accuracies**"
   ]
  },
  {
   "cell_type": "code",
   "execution_count": 20,
   "metadata": {},
   "outputs": [],
   "source": [
    "a=metrics.accuracy_score(y_test, y_pred)\n",
    "b=metrics.accuracy_score(y_train, y_pred2)"
   ]
  },
  {
   "cell_type": "code",
   "execution_count": 21,
   "metadata": {},
   "outputs": [
    {
     "data": {
      "image/png": "[encoded data removed]",
      "text/plain": [
       "<Figure size 432x288 with 1 Axes>"
      ]
     },
     "metadata": {
      "needs_background": "light"
     },
     "output_type": "display_data"
    }
   ],
   "source": [
    "x='Test Data' \n",
    "y='Train Data'\n",
    "c=[x,y] \n",
    "d=[a,b]\n",
    "plt.bar(c,d,color=['skyblue','red'])\n",
    "plt.ylabel('Accuracy')\n",
    "plt.title('Testing and Training accuracies')\n",
    "plt.show()"
   ]
  },
  {
   "cell_type": "markdown",
   "metadata": {},
   "source": [
    "# Decision Tree Classifier"
   ]
  },
  {
   "cell_type": "code",
   "execution_count": 31,
   "metadata": {},
   "outputs": [],
   "source": [
    "#Traing the Algorithm \n",
    "from sklearn.tree import DecisionTreeClassifier\n",
    "dt = DecisionTreeClassifier(random_state=0)\n",
    "dt.fit(X_train, y_train)\n",
    "y_pred = clf.predict(X_test)\n",
    "y_pred2=clf.predict(X_train)"
   ]
  },
  {
   "cell_type": "code",
   "execution_count": 34,
   "metadata": {},
   "outputs": [
    {
     "name": "stdout",
     "output_type": "stream",
     "text": [
      "Accuracy of Decision Tree classifier on test set: 0.37\n"
     ]
    }
   ],
   "source": [
    "# Predicting test set\n",
    "y_pred = dt.predict(X_test)\n",
    "print('Accuracy of Decision Tree classifier on test set: {:.2f}'.format(dt.score(X_test, y_test)))"
   ]
  },
  {
   "cell_type": "code",
   "execution_count": 38,
   "metadata": {},
   "outputs": [
    {
     "data": {
      "text/plain": [
       "0.9627659574468085"
      ]
     },
     "execution_count": 38,
     "metadata": {},
     "output_type": "execute_result"
    }
   ],
   "source": [
    "training_score=dt.score(X_train,y_train)\n",
    "training_score"
   ]
  },
  {
   "cell_type": "code",
   "execution_count": 37,
   "metadata": {},
   "outputs": [
    {
     "data": {
      "text/plain": [
       "0.3732394366197183"
      ]
     },
     "execution_count": 37,
     "metadata": {},
     "output_type": "execute_result"
    }
   ],
   "source": [
    "testing_score=dt.score(X_test,y_test)\n",
    "testing_score"
   ]
  },
  {
   "cell_type": "markdown",
   "metadata": {},
   "source": [
    "# Logistic Regression"
   ]
  },
  {
   "cell_type": "code",
   "execution_count": 87,
   "metadata": {},
   "outputs": [],
   "source": [
    "from sklearn.model_selection import train_test_split\n",
    "from sklearn.linear_model import LogisticRegression"
   ]
  },
  {
   "cell_type": "code",
   "execution_count": 88,
   "metadata": {},
   "outputs": [],
   "source": [
    "#splitting train and test data \n",
    "train,test = train_test_split(df,test_size = 0.3 ,random_state = 0)"
   ]
  },
  {
   "cell_type": "code",
   "execution_count": 90,
   "metadata": {
    "scrolled": true
   },
   "outputs": [
    {
     "name": "stderr",
     "output_type": "stream",
     "text": [
      "C:\\Users\\talwi\\Anaconda3\\lib\\site-packages\\sklearn\\linear_model\\logistic.py:432: FutureWarning: Default solver will be changed to 'lbfgs' in 0.22. Specify a solver to silence this warning.\n",
      "  FutureWarning)\n",
      "C:\\Users\\talwi\\Anaconda3\\lib\\site-packages\\sklearn\\linear_model\\logistic.py:469: FutureWarning: Default multi_class will be changed to 'auto' in 0.22. Specify the multi_class option to silence this warning.\n",
      "  \"this warning.\", FutureWarning)\n"
     ]
    },
    {
     "data": {
      "text/plain": [
       "LogisticRegression(C=1.0, class_weight=None, dual=False, fit_intercept=True,\n",
       "                   intercept_scaling=1, l1_ratio=None, max_iter=100,\n",
       "                   multi_class='warn', n_jobs=None, penalty='l2',\n",
       "                   random_state=None, solver='warn', tol=0.0001, verbose=0,\n",
       "                   warm_start=False)"
      ]
     },
     "execution_count": 90,
     "metadata": {},
     "output_type": "execute_result"
    }
   ],
   "source": [
    "#splitting train and test data \n",
    "logreg = LogisticRegression()\n",
    "logreg.fit(X_train, y_train)"
   ]
  },
  {
   "cell_type": "code",
   "execution_count": 91,
   "metadata": {},
   "outputs": [
    {
     "data": {
      "text/plain": [
       "0.4507042253521127"
      ]
     },
     "execution_count": 91,
     "metadata": {},
     "output_type": "execute_result"
    }
   ],
   "source": [
    "testing_score=logreg.score(X_test,y_test)\n",
    "testing_score"
   ]
  },
  {
   "cell_type": "code",
   "execution_count": 92,
   "metadata": {},
   "outputs": [
    {
     "data": {
      "text/plain": [
       "0.48936170212765956"
      ]
     },
     "execution_count": 92,
     "metadata": {},
     "output_type": "execute_result"
    }
   ],
   "source": [
    "training_score=logreg.score(X_train,y_train)\n",
    "training_score"
   ]
  },
  {
   "cell_type": "markdown",
   "metadata": {},
   "source": [
    "## Building Artificial Neural Network"
   ]
  },
  {
   "cell_type": "markdown",
   "metadata": {},
   "source": [
    "### Create Training and Testing Datasets"
   ]
  },
  {
   "cell_type": "markdown",
   "metadata": {},
   "source": [
    "The output class is reduced, as it increases the network’s probability of finding the right output class.SThey are reduced from a possible 120 to 2. A new column called class has been added to the original dataset and the 2 subranges for the values of\n",
    "the output neurons are as follows:\n"
   ]
  },
  {
   "cell_type": "code",
   "execution_count": 22,
   "metadata": {},
   "outputs": [
    {
     "data": {
      "text/html": [
       "<div>\n",
       "<style scoped>\n",
       "    .dataframe tbody tr th:only-of-type {\n",
       "        vertical-align: middle;\n",
       "    }\n",
       "\n",
       "    .dataframe tbody tr th {\n",
       "        vertical-align: top;\n",
       "    }\n",
       "\n",
       "    .dataframe thead th {\n",
       "        text-align: right;\n",
       "    }\n",
       "</style>\n",
       "<table border=\"1\" class=\"dataframe\">\n",
       "  <thead>\n",
       "    <tr style=\"text-align: right;\">\n",
       "      <th></th>\n",
       "      <th>Absenteeism Time (in hours)</th>\n",
       "      <th>Class</th>\n",
       "    </tr>\n",
       "  </thead>\n",
       "  <tbody>\n",
       "    <tr>\n",
       "      <th>0</th>\n",
       "      <td>Between 0 - 50</td>\n",
       "      <td>0</td>\n",
       "    </tr>\n",
       "    <tr>\n",
       "      <th>1</th>\n",
       "      <td>More than 50</td>\n",
       "      <td>1</td>\n",
       "    </tr>\n",
       "  </tbody>\n",
       "</table>\n",
       "</div>"
      ],
      "text/plain": [
       "  Absenteeism Time (in hours)  Class\n",
       "0              Between 0 - 50      0\n",
       "1                More than 50      1"
      ]
     },
     "execution_count": 22,
     "metadata": {},
     "output_type": "execute_result"
    }
   ],
   "source": [
    "table = pd.DataFrame({'Absenteeism Time (in hours)': ['Between 0 - 50', 'More than 50'], 'Class': [0,1]})\n",
    "table\n"
   ]
  },
  {
   "cell_type": "markdown",
   "metadata": {},
   "source": [
    "Reading the new dataset after adding class column"
   ]
  },
  {
   "cell_type": "code",
   "execution_count": 37,
   "metadata": {},
   "outputs": [],
   "source": [
    "df1=pd.read_csv(\"new.csv\")"
   ]
  },
  {
   "cell_type": "markdown",
   "metadata": {},
   "source": [
    "**Dropping ID column**"
   ]
  },
  {
   "cell_type": "code",
   "execution_count": 38,
   "metadata": {},
   "outputs": [],
   "source": [
    "df1=df1.drop(['ID'],axis=1)"
   ]
  },
  {
   "cell_type": "code",
   "execution_count": 39,
   "metadata": {},
   "outputs": [],
   "source": [
    "y = df1.Class.values\n",
    "X = df1.drop(['Class'], axis=1)"
   ]
  },
  {
   "cell_type": "code",
   "execution_count": 40,
   "metadata": {},
   "outputs": [
    {
     "data": {
      "text/html": [
       "<div>\n",
       "<style scoped>\n",
       "    .dataframe tbody tr th:only-of-type {\n",
       "        vertical-align: middle;\n",
       "    }\n",
       "\n",
       "    .dataframe tbody tr th {\n",
       "        vertical-align: top;\n",
       "    }\n",
       "\n",
       "    .dataframe thead th {\n",
       "        text-align: right;\n",
       "    }\n",
       "</style>\n",
       "<table border=\"1\" class=\"dataframe\">\n",
       "  <thead>\n",
       "    <tr style=\"text-align: right;\">\n",
       "      <th></th>\n",
       "      <th>Reason for absence</th>\n",
       "      <th>Month of absence</th>\n",
       "      <th>Day of the week</th>\n",
       "      <th>Seasons</th>\n",
       "      <th>Transportation expense</th>\n",
       "      <th>Distance from Residence to Work</th>\n",
       "      <th>Service time</th>\n",
       "      <th>Age</th>\n",
       "      <th>Work load Average/day</th>\n",
       "      <th>Hit target</th>\n",
       "      <th>Disciplinary failure</th>\n",
       "      <th>Education</th>\n",
       "      <th>Son</th>\n",
       "      <th>Social drinker</th>\n",
       "      <th>Social smoker</th>\n",
       "      <th>Pet</th>\n",
       "      <th>Weight</th>\n",
       "      <th>Height</th>\n",
       "      <th>Body mass index</th>\n",
       "      <th>Absenteeism</th>\n",
       "    </tr>\n",
       "  </thead>\n",
       "  <tbody>\n",
       "    <tr>\n",
       "      <th>0</th>\n",
       "      <td>26</td>\n",
       "      <td>7</td>\n",
       "      <td>3</td>\n",
       "      <td>1</td>\n",
       "      <td>289</td>\n",
       "      <td>36</td>\n",
       "      <td>13</td>\n",
       "      <td>33</td>\n",
       "      <td>239554</td>\n",
       "      <td>97</td>\n",
       "      <td>0</td>\n",
       "      <td>1</td>\n",
       "      <td>2</td>\n",
       "      <td>1</td>\n",
       "      <td>0</td>\n",
       "      <td>1</td>\n",
       "      <td>90</td>\n",
       "      <td>172</td>\n",
       "      <td>30</td>\n",
       "      <td>4</td>\n",
       "    </tr>\n",
       "    <tr>\n",
       "      <th>1</th>\n",
       "      <td>0</td>\n",
       "      <td>7</td>\n",
       "      <td>3</td>\n",
       "      <td>1</td>\n",
       "      <td>118</td>\n",
       "      <td>13</td>\n",
       "      <td>18</td>\n",
       "      <td>50</td>\n",
       "      <td>239554</td>\n",
       "      <td>97</td>\n",
       "      <td>1</td>\n",
       "      <td>1</td>\n",
       "      <td>1</td>\n",
       "      <td>1</td>\n",
       "      <td>0</td>\n",
       "      <td>0</td>\n",
       "      <td>98</td>\n",
       "      <td>178</td>\n",
       "      <td>31</td>\n",
       "      <td>0</td>\n",
       "    </tr>\n",
       "    <tr>\n",
       "      <th>2</th>\n",
       "      <td>23</td>\n",
       "      <td>7</td>\n",
       "      <td>4</td>\n",
       "      <td>1</td>\n",
       "      <td>179</td>\n",
       "      <td>51</td>\n",
       "      <td>18</td>\n",
       "      <td>38</td>\n",
       "      <td>239554</td>\n",
       "      <td>97</td>\n",
       "      <td>0</td>\n",
       "      <td>1</td>\n",
       "      <td>0</td>\n",
       "      <td>1</td>\n",
       "      <td>0</td>\n",
       "      <td>0</td>\n",
       "      <td>89</td>\n",
       "      <td>170</td>\n",
       "      <td>31</td>\n",
       "      <td>2</td>\n",
       "    </tr>\n",
       "    <tr>\n",
       "      <th>3</th>\n",
       "      <td>7</td>\n",
       "      <td>7</td>\n",
       "      <td>5</td>\n",
       "      <td>1</td>\n",
       "      <td>279</td>\n",
       "      <td>5</td>\n",
       "      <td>14</td>\n",
       "      <td>39</td>\n",
       "      <td>239554</td>\n",
       "      <td>97</td>\n",
       "      <td>0</td>\n",
       "      <td>1</td>\n",
       "      <td>2</td>\n",
       "      <td>1</td>\n",
       "      <td>1</td>\n",
       "      <td>0</td>\n",
       "      <td>68</td>\n",
       "      <td>168</td>\n",
       "      <td>24</td>\n",
       "      <td>4</td>\n",
       "    </tr>\n",
       "    <tr>\n",
       "      <th>4</th>\n",
       "      <td>23</td>\n",
       "      <td>7</td>\n",
       "      <td>5</td>\n",
       "      <td>1</td>\n",
       "      <td>289</td>\n",
       "      <td>36</td>\n",
       "      <td>13</td>\n",
       "      <td>33</td>\n",
       "      <td>239554</td>\n",
       "      <td>97</td>\n",
       "      <td>0</td>\n",
       "      <td>1</td>\n",
       "      <td>2</td>\n",
       "      <td>1</td>\n",
       "      <td>0</td>\n",
       "      <td>1</td>\n",
       "      <td>90</td>\n",
       "      <td>172</td>\n",
       "      <td>30</td>\n",
       "      <td>2</td>\n",
       "    </tr>\n",
       "    <tr>\n",
       "      <th>...</th>\n",
       "      <td>...</td>\n",
       "      <td>...</td>\n",
       "      <td>...</td>\n",
       "      <td>...</td>\n",
       "      <td>...</td>\n",
       "      <td>...</td>\n",
       "      <td>...</td>\n",
       "      <td>...</td>\n",
       "      <td>...</td>\n",
       "      <td>...</td>\n",
       "      <td>...</td>\n",
       "      <td>...</td>\n",
       "      <td>...</td>\n",
       "      <td>...</td>\n",
       "      <td>...</td>\n",
       "      <td>...</td>\n",
       "      <td>...</td>\n",
       "      <td>...</td>\n",
       "      <td>...</td>\n",
       "      <td>...</td>\n",
       "    </tr>\n",
       "    <tr>\n",
       "      <th>701</th>\n",
       "      <td>14</td>\n",
       "      <td>7</td>\n",
       "      <td>3</td>\n",
       "      <td>1</td>\n",
       "      <td>289</td>\n",
       "      <td>36</td>\n",
       "      <td>13</td>\n",
       "      <td>33</td>\n",
       "      <td>264604</td>\n",
       "      <td>93</td>\n",
       "      <td>0</td>\n",
       "      <td>1</td>\n",
       "      <td>2</td>\n",
       "      <td>1</td>\n",
       "      <td>0</td>\n",
       "      <td>1</td>\n",
       "      <td>90</td>\n",
       "      <td>172</td>\n",
       "      <td>30</td>\n",
       "      <td>8</td>\n",
       "    </tr>\n",
       "    <tr>\n",
       "      <th>702</th>\n",
       "      <td>11</td>\n",
       "      <td>7</td>\n",
       "      <td>3</td>\n",
       "      <td>1</td>\n",
       "      <td>235</td>\n",
       "      <td>11</td>\n",
       "      <td>14</td>\n",
       "      <td>37</td>\n",
       "      <td>264604</td>\n",
       "      <td>93</td>\n",
       "      <td>0</td>\n",
       "      <td>3</td>\n",
       "      <td>1</td>\n",
       "      <td>0</td>\n",
       "      <td>0</td>\n",
       "      <td>1</td>\n",
       "      <td>88</td>\n",
       "      <td>172</td>\n",
       "      <td>29</td>\n",
       "      <td>4</td>\n",
       "    </tr>\n",
       "    <tr>\n",
       "      <th>703</th>\n",
       "      <td>0</td>\n",
       "      <td>0</td>\n",
       "      <td>3</td>\n",
       "      <td>1</td>\n",
       "      <td>118</td>\n",
       "      <td>14</td>\n",
       "      <td>13</td>\n",
       "      <td>40</td>\n",
       "      <td>271219</td>\n",
       "      <td>95</td>\n",
       "      <td>0</td>\n",
       "      <td>1</td>\n",
       "      <td>1</td>\n",
       "      <td>1</td>\n",
       "      <td>0</td>\n",
       "      <td>8</td>\n",
       "      <td>98</td>\n",
       "      <td>170</td>\n",
       "      <td>34</td>\n",
       "      <td>0</td>\n",
       "    </tr>\n",
       "    <tr>\n",
       "      <th>704</th>\n",
       "      <td>0</td>\n",
       "      <td>0</td>\n",
       "      <td>4</td>\n",
       "      <td>2</td>\n",
       "      <td>231</td>\n",
       "      <td>35</td>\n",
       "      <td>14</td>\n",
       "      <td>39</td>\n",
       "      <td>271219</td>\n",
       "      <td>95</td>\n",
       "      <td>0</td>\n",
       "      <td>1</td>\n",
       "      <td>2</td>\n",
       "      <td>1</td>\n",
       "      <td>0</td>\n",
       "      <td>2</td>\n",
       "      <td>100</td>\n",
       "      <td>170</td>\n",
       "      <td>35</td>\n",
       "      <td>0</td>\n",
       "    </tr>\n",
       "    <tr>\n",
       "      <th>705</th>\n",
       "      <td>0</td>\n",
       "      <td>0</td>\n",
       "      <td>6</td>\n",
       "      <td>3</td>\n",
       "      <td>179</td>\n",
       "      <td>45</td>\n",
       "      <td>14</td>\n",
       "      <td>53</td>\n",
       "      <td>271219</td>\n",
       "      <td>95</td>\n",
       "      <td>0</td>\n",
       "      <td>1</td>\n",
       "      <td>1</td>\n",
       "      <td>0</td>\n",
       "      <td>0</td>\n",
       "      <td>1</td>\n",
       "      <td>77</td>\n",
       "      <td>175</td>\n",
       "      <td>25</td>\n",
       "      <td>0</td>\n",
       "    </tr>\n",
       "  </tbody>\n",
       "</table>\n",
       "<p>706 rows × 20 columns</p>\n",
       "</div>"
      ],
      "text/plain": [
       "     Reason for absence  Month of absence  Day of the week  Seasons  \\\n",
       "0                    26                 7                3        1   \n",
       "1                     0                 7                3        1   \n",
       "2                    23                 7                4        1   \n",
       "3                     7                 7                5        1   \n",
       "4                    23                 7                5        1   \n",
       "..                  ...               ...              ...      ...   \n",
       "701                  14                 7                3        1   \n",
       "702                  11                 7                3        1   \n",
       "703                   0                 0                3        1   \n",
       "704                   0                 0                4        2   \n",
       "705                   0                 0                6        3   \n",
       "\n",
       "     Transportation expense  Distance from Residence to Work  Service time  \\\n",
       "0                       289                               36            13   \n",
       "1                       118                               13            18   \n",
       "2                       179                               51            18   \n",
       "3                       279                                5            14   \n",
       "4                       289                               36            13   \n",
       "..                      ...                              ...           ...   \n",
       "701                     289                               36            13   \n",
       "702                     235                               11            14   \n",
       "703                     118                               14            13   \n",
       "704                     231                               35            14   \n",
       "705                     179                               45            14   \n",
       "\n",
       "     Age  Work load Average/day   Hit target  Disciplinary failure  Education  \\\n",
       "0     33                  239554          97                     0          1   \n",
       "1     50                  239554          97                     1          1   \n",
       "2     38                  239554          97                     0          1   \n",
       "3     39                  239554          97                     0          1   \n",
       "4     33                  239554          97                     0          1   \n",
       "..   ...                     ...         ...                   ...        ...   \n",
       "701   33                  264604          93                     0          1   \n",
       "702   37                  264604          93                     0          3   \n",
       "703   40                  271219          95                     0          1   \n",
       "704   39                  271219          95                     0          1   \n",
       "705   53                  271219          95                     0          1   \n",
       "\n",
       "     Son  Social drinker  Social smoker  Pet  Weight  Height  Body mass index  \\\n",
       "0      2               1              0    1      90     172               30   \n",
       "1      1               1              0    0      98     178               31   \n",
       "2      0               1              0    0      89     170               31   \n",
       "3      2               1              1    0      68     168               24   \n",
       "4      2               1              0    1      90     172               30   \n",
       "..   ...             ...            ...  ...     ...     ...              ...   \n",
       "701    2               1              0    1      90     172               30   \n",
       "702    1               0              0    1      88     172               29   \n",
       "703    1               1              0    8      98     170               34   \n",
       "704    2               1              0    2     100     170               35   \n",
       "705    1               0              0    1      77     175               25   \n",
       "\n",
       "     Absenteeism  \n",
       "0              4  \n",
       "1              0  \n",
       "2              2  \n",
       "3              4  \n",
       "4              2  \n",
       "..           ...  \n",
       "701            8  \n",
       "702            4  \n",
       "703            0  \n",
       "704            0  \n",
       "705            0  \n",
       "\n",
       "[706 rows x 20 columns]"
      ]
     },
     "execution_count": 40,
     "metadata": {},
     "output_type": "execute_result"
    }
   ],
   "source": [
    "X"
   ]
  },
  {
   "cell_type": "code",
   "execution_count": 41,
   "metadata": {},
   "outputs": [
    {
     "data": {
      "text/plain": [
       "array([0, 0, 0, 0, 0, 0, 0, 0, 0, 0, 0, 0, 0, 0, 0, 0, 0, 0, 0, 0, 0, 0,\n",
       "       0, 0, 0, 0, 0, 0, 0, 0, 0, 0, 0, 0, 0, 0, 0, 0, 0, 0, 0, 0, 0, 0,\n",
       "       0, 0, 0, 0, 0, 0, 0, 0, 0, 0, 0, 0, 0, 0, 0, 0, 0, 0, 0, 0, 0, 0,\n",
       "       0, 0, 0, 0, 0, 0, 0, 0, 0, 0, 0, 0, 0, 0, 0, 0, 0, 0, 0, 0, 0, 0,\n",
       "       0, 0, 0, 0, 0, 0, 0, 0, 1, 0, 0, 0, 0, 1, 0, 0, 0, 0, 0, 0, 0, 0,\n",
       "       0, 0, 0, 0, 0, 0, 0, 0, 0, 0, 0, 0, 0, 0, 0, 0, 0, 0, 0, 0, 0, 0,\n",
       "       0, 0, 0, 0, 0, 0, 0, 0, 0, 0, 0, 0, 0, 0, 0, 0, 0, 0, 0, 0, 0, 0,\n",
       "       0, 0, 0, 0, 0, 0, 0, 0, 0, 0, 0, 0, 0, 0, 0, 0, 0, 0, 0, 0, 0, 0,\n",
       "       0, 0, 0, 0, 0, 0, 0, 0, 0, 0, 0, 0, 1, 0, 0, 0, 0, 0, 0, 0, 0, 0,\n",
       "       0, 0, 0, 0, 0, 0, 0, 0, 0, 0, 0, 0, 0, 0, 0, 0, 0, 0, 0, 0, 0, 0,\n",
       "       0, 0, 1, 0, 0, 0, 0, 0, 0, 0, 0, 0, 0, 0, 0, 0, 0, 0, 0, 0, 0, 0,\n",
       "       0, 0, 0, 0, 0, 0, 0, 0, 0, 0, 0, 0, 0, 0, 0, 0, 0, 0, 0, 0, 0, 0,\n",
       "       0, 0, 0, 0, 0, 0, 0, 0, 0, 0, 0, 0, 0, 0, 0, 0, 0, 0, 0, 0, 0, 0,\n",
       "       0, 0, 0, 0, 1, 0, 0, 0, 0, 0, 0, 0, 0, 0, 0, 0, 0, 0, 0, 0, 0, 0,\n",
       "       0, 0, 0, 0, 0, 1, 0, 0, 0, 0, 0, 0, 0, 0, 0, 0, 0, 0, 0, 0, 0, 0,\n",
       "       0, 0, 0, 0, 0, 0, 0, 0, 0, 0, 0, 0, 0, 0, 0, 0, 0, 0, 0, 0, 0, 0,\n",
       "       0, 0, 0, 0, 0, 0, 0, 0, 0, 0, 0, 0, 0, 0, 0, 0, 0, 0, 0, 0, 0, 0,\n",
       "       0, 0, 0, 0, 0, 0, 0, 0, 0, 0, 0, 0, 0, 0, 0, 0, 0, 0, 0, 0, 0, 0,\n",
       "       0, 0, 0, 0, 0, 0, 0, 0, 1, 0, 0, 0, 0, 0, 0, 0, 0, 0, 0, 0, 0, 0,\n",
       "       0, 0, 0, 0, 0, 0, 0, 0, 0, 0, 0, 0, 0, 0, 0, 0, 0, 0, 0, 0, 0, 0,\n",
       "       0, 0, 0, 0, 0, 0, 0, 0, 0, 0, 0, 0, 0, 0, 1, 0, 0, 0, 0, 0, 0, 0,\n",
       "       0, 0, 0, 0, 0, 0, 0, 0, 0, 0, 0, 0, 0, 0, 0, 0, 0, 0, 0, 0, 0, 0,\n",
       "       0, 0, 0, 0, 0, 0, 0, 0, 0, 0, 0, 0, 0, 0, 0, 0, 0, 0, 0, 0, 0, 0,\n",
       "       0, 0, 0, 0, 0, 0, 0, 0, 0, 0, 0, 0, 0, 0, 0, 0, 0, 0, 0, 0, 0, 0,\n",
       "       0, 0, 0, 0, 0, 0, 0, 0, 0, 0, 0, 0, 0, 0, 0, 0, 0, 0, 0, 0, 0, 1,\n",
       "       0, 0, 0, 0, 0, 0, 0, 0, 0, 0, 0, 0, 0, 0, 0, 0, 0, 0, 0, 0, 0, 0,\n",
       "       0, 0, 0, 0, 0, 0, 0, 0, 0, 0, 0, 0, 0, 0, 0, 0, 0, 0, 0, 0, 0, 0,\n",
       "       0, 0, 0, 1, 0, 0, 0, 0, 0, 0, 0, 0, 0, 0, 0, 0, 0, 0, 0, 0, 0, 0,\n",
       "       0, 0, 0, 0, 0, 0, 0, 1, 0, 0, 0, 0, 0, 0, 0, 0, 0, 0, 0, 0, 0, 0,\n",
       "       0, 0, 0, 0, 0, 0, 0, 0, 0, 0, 0, 0, 1, 0, 0, 0, 0, 0, 0, 0, 0, 0,\n",
       "       0, 0, 0, 0, 0, 0, 0, 0, 0, 0, 0, 0, 0, 0, 0, 0, 0, 0, 0, 0, 0, 0,\n",
       "       0, 0, 0, 0, 0, 0, 0, 0, 0, 0, 0, 0, 0, 1, 0, 0, 0, 0, 1, 0, 0, 0,\n",
       "       0, 0], dtype=int64)"
      ]
     },
     "execution_count": 41,
     "metadata": {},
     "output_type": "execute_result"
    }
   ],
   "source": [
    "y"
   ]
  },
  {
   "cell_type": "code",
   "execution_count": 42,
   "metadata": {},
   "outputs": [],
   "source": [
    "from sklearn import model_selection\n",
    "X_train, X_test, y_train, y_test = model_selection.train_test_split(X, y, random_state=0, test_size = 0.2)"
   ]
  },
  {
   "cell_type": "code",
   "execution_count": 43,
   "metadata": {},
   "outputs": [],
   "source": [
    "from sklearn.preprocessing import MinMaxScaler \n",
    "scaler = MinMaxScaler()                         \n",
    "scaler.fit(X_train)\n",
    "X_train_scaled = scaler.transform(X_train)\n",
    "X_test_scaled = scaler.transform(X_test) "
   ]
  },
  {
   "cell_type": "code",
   "execution_count": 44,
   "metadata": {},
   "outputs": [
    {
     "data": {
      "text/plain": [
       "array([[0.35714286, 0.5       , 1.        , ..., 0.21212121, 0.21052632,\n",
       "        0.06666667],\n",
       "       [0.96428571, 0.16666667, 0.5       , ..., 0.21212121, 0.63157895,\n",
       "        0.025     ],\n",
       "       [0.03571429, 0.91666667, 0.        , ..., 0.33333333, 0.10526316,\n",
       "        0.06666667],\n",
       "       ...,\n",
       "       [0.46428571, 0.33333333, 0.75      , ..., 0.12121212, 0.31578947,\n",
       "        0.06666667],\n",
       "       [0.64285714, 0.08333333, 0.25      , ..., 1.        , 0.31578947,\n",
       "        0.06666667],\n",
       "       [1.        , 0.5       , 0.75      , ..., 0.24242424, 0.31578947,\n",
       "        0.01666667]])"
      ]
     },
     "execution_count": 44,
     "metadata": {},
     "output_type": "execute_result"
    }
   ],
   "source": [
    "X_train_scaled"
   ]
  },
  {
   "cell_type": "code",
   "execution_count": 45,
   "metadata": {},
   "outputs": [],
   "source": [
    "from tensorflow import keras"
   ]
  },
  {
   "cell_type": "markdown",
   "metadata": {},
   "source": [
    "**Building and Training the Neural Network**"
   ]
  },
  {
   "cell_type": "code",
   "execution_count": 46,
   "metadata": {},
   "outputs": [],
   "source": [
    "from keras.models import Sequential\n",
    "from keras.layers import Dense\n",
    "from keras.optimizers import Adam\n",
    "import tensorflow as tf"
   ]
  },
  {
   "cell_type": "code",
   "execution_count": 47,
   "metadata": {},
   "outputs": [],
   "source": [
    "model = keras.Sequential([\n",
    "    keras.layers.Flatten(input_shape=(20,)),\n",
    "    keras.layers.Dense(16, activation=tf.nn.relu),\n",
    "\tkeras.layers.Dense(16, activation=tf.nn.relu),\n",
    "    keras.layers.Dense(1, activation=tf.nn.sigmoid),\n",
    "])"
   ]
  },
  {
   "cell_type": "code",
   "execution_count": 48,
   "metadata": {},
   "outputs": [],
   "source": [
    "model.compile(optimizer='adam',\n",
    "              loss='binary_crossentropy',\n",
    "              metrics=['accuracy'])"
   ]
  },
  {
   "cell_type": "code",
   "execution_count": 49,
   "metadata": {
    "scrolled": false
   },
   "outputs": [
    {
     "name": "stdout",
     "output_type": "stream",
     "text": [
      "Epoch 1/20\n",
      "57/57 [==============================] - 0s 2ms/step - loss: 0.4909 - accuracy: 0.9291 - val_loss: 0.2694 - val_accuracy: 0.9789\n",
      "Epoch 2/20\n",
      "57/57 [==============================] - 0s 1ms/step - loss: 0.1603 - accuracy: 0.9805 - val_loss: 0.1198 - val_accuracy: 0.9789\n",
      "Epoch 3/20\n",
      "57/57 [==============================] - 0s 972us/step - loss: 0.1019 - accuracy: 0.9805 - val_loss: 0.1087 - val_accuracy: 0.9789\n",
      "Epoch 4/20\n",
      "57/57 [==============================] - 0s 1ms/step - loss: 0.0950 - accuracy: 0.9805 - val_loss: 0.1037 - val_accuracy: 0.9789\n",
      "Epoch 5/20\n",
      "57/57 [==============================] - 0s 1ms/step - loss: 0.0905 - accuracy: 0.9805 - val_loss: 0.0991 - val_accuracy: 0.9789\n",
      "Epoch 6/20\n",
      "57/57 [==============================] - 0s 1ms/step - loss: 0.0864 - accuracy: 0.9805 - val_loss: 0.0951 - val_accuracy: 0.9789\n",
      "Epoch 7/20\n",
      "57/57 [==============================] - 0s 1ms/step - loss: 0.0821 - accuracy: 0.9805 - val_loss: 0.0903 - val_accuracy: 0.9789\n",
      "Epoch 8/20\n",
      "57/57 [==============================] - 0s 979us/step - loss: 0.0778 - accuracy: 0.9805 - val_loss: 0.0845 - val_accuracy: 0.9789\n",
      "Epoch 9/20\n",
      "57/57 [==============================] - 0s 1ms/step - loss: 0.0728 - accuracy: 0.9805 - val_loss: 0.0794 - val_accuracy: 0.9789\n",
      "Epoch 10/20\n",
      "57/57 [==============================] - 0s 1ms/step - loss: 0.0659 - accuracy: 0.9805 - val_loss: 0.0734 - val_accuracy: 0.9789\n",
      "Epoch 11/20\n",
      "57/57 [==============================] - 0s 1ms/step - loss: 0.0610 - accuracy: 0.9805 - val_loss: 0.0661 - val_accuracy: 0.9789\n",
      "Epoch 12/20\n",
      "57/57 [==============================] - 0s 989us/step - loss: 0.0554 - accuracy: 0.9805 - val_loss: 0.0603 - val_accuracy: 0.9789\n",
      "Epoch 13/20\n",
      "57/57 [==============================] - 0s 1ms/step - loss: 0.0489 - accuracy: 0.9805 - val_loss: 0.0539 - val_accuracy: 0.9789\n",
      "Epoch 14/20\n",
      "57/57 [==============================] - 0s 1ms/step - loss: 0.0432 - accuracy: 0.9840 - val_loss: 0.0490 - val_accuracy: 0.9859\n",
      "Epoch 15/20\n",
      "57/57 [==============================] - 0s 1ms/step - loss: 0.0389 - accuracy: 0.9876 - val_loss: 0.0458 - val_accuracy: 0.9859\n",
      "Epoch 16/20\n",
      "57/57 [==============================] - 0s 1ms/step - loss: 0.0362 - accuracy: 0.9876 - val_loss: 0.0416 - val_accuracy: 0.9859\n",
      "Epoch 17/20\n",
      "57/57 [==============================] - 0s 1ms/step - loss: 0.0309 - accuracy: 0.9876 - val_loss: 0.0360 - val_accuracy: 0.9859\n",
      "Epoch 18/20\n",
      "57/57 [==============================] - 0s 1ms/step - loss: 0.0275 - accuracy: 0.9876 - val_loss: 0.0333 - val_accuracy: 0.9859\n",
      "Epoch 19/20\n",
      "57/57 [==============================] - 0s 1ms/step - loss: 0.0246 - accuracy: 0.9911 - val_loss: 0.0311 - val_accuracy: 0.9859\n",
      "Epoch 20/20\n",
      "57/57 [==============================] - 0s 1ms/step - loss: 0.0221 - accuracy: 0.9911 - val_loss: 0.0266 - val_accuracy: 0.9859\n"
     ]
    }
   ],
   "source": [
    "history=model.fit(X_train_scaled, y_train, epochs=20, batch_size=10,validation_data=(X_test_scaled, y_test))"
   ]
  },
  {
   "cell_type": "code",
   "execution_count": 50,
   "metadata": {},
   "outputs": [
    {
     "name": "stdout",
     "output_type": "stream",
     "text": [
      "5/5 [==============================] - 0s 1ms/step - loss: 0.0266 - accuracy: 0.9859\n",
      "Test accuracy: 0.98591548204422\n"
     ]
    }
   ],
   "source": [
    "test_loss, test_acc = model.evaluate(X_test_scaled, y_test)\n",
    "print('Test accuracy:', test_acc)"
   ]
  },
  {
   "cell_type": "markdown",
   "metadata": {},
   "source": [
    "**Plotting the model accuracy and model loss**"
   ]
  },
  {
   "cell_type": "code",
   "execution_count": 51,
   "metadata": {},
   "outputs": [
    {
     "data": {
      "image/png": "[encoded data removed]",
      "text/plain": [
       "<Figure size 432x288 with 1 Axes>"
      ]
     },
     "metadata": {
      "needs_background": "light"
     },
     "output_type": "display_data"
    },
    {
     "data": {
      "image/png": "[encoded data removed]",
      "text/plain": [
       "<Figure size 432x288 with 1 Axes>"
      ]
     },
     "metadata": {
      "needs_background": "light"
     },
     "output_type": "display_data"
    }
   ],
   "source": [
    "plt.plot(history.history['accuracy'])\n",
    "plt.plot(history.history['val_accuracy'])\n",
    "plt.title('Model Accuracy')\n",
    "plt.ylabel('Accuracy')\n",
    "plt.xlabel('Epochs')\n",
    "plt.legend(['Train', 'Test'])\n",
    "plt.show()\n",
    "\n",
    "# Plot the Loss function vs. number of Epochs\n",
    "plt.plot(history.history['loss'])\n",
    "plt.plot(history.history['val_loss'])\n",
    "plt.title('Model Loss')\n",
    "plt.ylabel('Loss')\n",
    "plt.xlabel('Epochs')\n",
    "plt.legend(['Train', 'Test'])\n",
    "plt.show()"
   ]
  },
  {
   "cell_type": "markdown",
   "metadata": {},
   "source": [
    "# Classification Analysis - SVM(linear,polynomial,RBF)"
   ]
  },
  {
   "cell_type": "code",
   "execution_count": 93,
   "metadata": {},
   "outputs": [
    {
     "name": "stdout",
     "output_type": "stream",
     "text": [
      "Linear Model\n",
      "After 5 fold cross validation:"
     ]
    },
    {
     "name": "stderr",
     "output_type": "stream",
     "text": [
      "C:\\Users\\talwi\\Anaconda3\\lib\\site-packages\\sklearn\\model_selection\\_split.py:657: Warning: The least populated class in y has only 1 members, which is too few. The minimum number of members in any class cannot be less than n_splits=5.\n",
      "  % (min_groups, self.n_splits)), Warning)\n"
     ]
    },
    {
     "name": "stdout",
     "output_type": "stream",
     "text": [
      "\n",
      "Mean of Accuracies:  46.88870761793166\n",
      "Standard deviation of Accuracies 5.507790850917688\n",
      "Linear Model\n"
     ]
    },
    {
     "name": "stderr",
     "output_type": "stream",
     "text": [
      "C:\\Users\\talwi\\Anaconda3\\lib\\site-packages\\sklearn\\model_selection\\_split.py:657: Warning: The least populated class in y has only 1 members, which is too few. The minimum number of members in any class cannot be less than n_splits=5.\n",
      "  % (min_groups, self.n_splits)), Warning)\n"
     ]
    },
    {
     "name": "stdout",
     "output_type": "stream",
     "text": [
      "After 5 fold cross validation:\n",
      "Mean of Accuracies:  46.88870761793166\n",
      "Standard deviation of Accuracies 5.507790850917688\n"
     ]
    }
   ],
   "source": [
    "from sklearn.svm import SVC\n",
    "from sklearn.model_selection import cross_val_score\n",
    "import sklearn.metrics as sk\n",
    "print('Linear Model',end='\\n')\n",
    "lsvclassifier = SVC(kernel='linear')\n",
    "lsvclassifier.fit(X_train, y_train)\n",
    "\n",
    "#Applying k-Fold Cross Validation\n",
    "accuracies = cross_val_score(estimator = lsvclassifier, X = X_train, y = y_train, cv = 5)\n",
    "mean_svm_linear=accuracies.mean()\n",
    "std_svm_linear=accuracies.std()\n",
    "\n",
    "#After using 5 fold cross validation\n",
    "print('After 5 fold cross validation:')\n",
    "print('Mean of Accuracies: ',mean_svm_linear*100,end='\\n')\n",
    "print('Standard deviation of Accuracies',std_svm_linear*100,end='\\n')\n",
    "\n",
    "#Predict SVM\n",
    "y_predl = lsvclassifier.predict(X_test)\n",
    "print('Linear Model',end='\\n')\n",
    "lsvclassifier = SVC(kernel='linear')\n",
    "lsvclassifier.fit(X_train, y_train)\n",
    "\n",
    "#Applying k-Fold Cross Validation\n",
    "accuracies = cross_val_score(estimator = lsvclassifier, X = X_train, y = y_train, cv = 5)\n",
    "mean_svm_linear=accuracies.mean()\n",
    "std_svm_linear=accuracies.std()\n",
    "\n",
    "#After using 5 fold cross validation\n",
    "print('After 5 fold cross validation:')\n",
    "print('Mean of Accuracies: ',mean_svm_linear*100,end='\\n')\n",
    "print('Standard deviation of Accuracies',std_svm_linear*100,end='\\n')\n",
    "\n",
    "#Predict SVM\n",
    "y_predl = lsvclassifier.predict(X_test)\n"
   ]
  },
  {
   "cell_type": "code",
   "execution_count": 94,
   "metadata": {},
   "outputs": [
    {
     "name": "stdout",
     "output_type": "stream",
     "text": [
      "Test Output:\n",
      "Confusion Matrix:\n",
      "[[14  0  0  0  0  1  0  0  0  0  0  0]\n",
      " [ 0  1  7  1  0  9  0  0  0  0  0  0]\n",
      " [ 0  2 18  6  0  7  0  0  0  0  0  0]\n",
      " [ 0  1  7  5  0  6  0  0  0  0  0  0]\n",
      " [ 0  1  5  1  3  6  0  0  0  0  0  0]\n",
      " [ 0  2  5  1  0 24  0  0  0  0  0  0]\n",
      " [ 0  0  1  0  0  1  0  0  0  0  0  0]\n",
      " [ 0  0  0  0  0  1  0  0  0  0  0  0]\n",
      " [ 0  0  0  0  0  1  0  0  0  0  0  0]\n",
      " [ 0  0  0  0  0  2  0  0  0  0  0  0]\n",
      " [ 0  0  0  0  0  2  0  0  0  0  0  0]\n",
      " [ 0  0  0  0  0  1  0  0  0  0  0  0]]\n",
      "Classification Report:\n",
      "              precision    recall  f1-score   support\n",
      "\n",
      "           0       1.00      0.93      0.97        15\n",
      "           1       0.14      0.06      0.08        18\n",
      "           2       0.42      0.55      0.47        33\n",
      "           3       0.36      0.26      0.30        19\n",
      "           4       1.00      0.19      0.32        16\n",
      "           8       0.39      0.75      0.52        32\n",
      "          16       0.00      0.00      0.00         2\n",
      "          24       0.00      0.00      0.00         1\n",
      "          32       0.00      0.00      0.00         1\n",
      "          40       0.00      0.00      0.00         2\n",
      "          80       0.00      0.00      0.00         2\n",
      "         120       0.00      0.00      0.00         1\n",
      "\n",
      "    accuracy                           0.46       142\n",
      "   macro avg       0.28      0.23      0.22       142\n",
      "weighted avg       0.47      0.46      0.41       142\n",
      "\n",
      "Accuracy:  0.45774647887323944\n"
     ]
    },
    {
     "name": "stderr",
     "output_type": "stream",
     "text": [
      "C:\\Users\\talwi\\Anaconda3\\lib\\site-packages\\sklearn\\metrics\\classification.py:1437: UndefinedMetricWarning: Precision and F-score are ill-defined and being set to 0.0 in labels with no predicted samples.\n",
      "  'precision', 'predicted', average, warn_for)\n"
     ]
    }
   ],
   "source": [
    "#Confusion Matrix\n",
    "print('Test Output:')\n",
    "print('Confusion Matrix:')\n",
    "print(sk.confusion_matrix(y_test,y_predl))\n",
    "print('Classification Report:')\n",
    "print(sk.classification_report(y_test,y_predl))\n",
    "print('Accuracy: ',sk.accuracy_score(y_test, y_predl, normalize=True, sample_weight=None))"
   ]
  },
  {
   "cell_type": "code",
   "execution_count": 95,
   "metadata": {},
   "outputs": [
    {
     "name": "stdout",
     "output_type": "stream",
     "text": [
      "Polynomial Model\n",
      "After 5 fold cross validation:\n",
      "Mean of Accuracies:  31.10012818968395\n",
      "Standard deviation of Accuracies 1.4847105609237132\n",
      "Test Output:\n",
      "Confusion Matrix:\n",
      "[[ 0  0  0  0  0 15  0  0  0  0  0  0]\n",
      " [ 0  0  0  0  0 18  0  0  0  0  0  0]\n",
      " [ 0  0  0  0  0 33  0  0  0  0  0  0]\n",
      " [ 0  0  0  0  0 19  0  0  0  0  0  0]\n",
      " [ 0  0  0  0  0 16  0  0  0  0  0  0]\n",
      " [ 0  0  0  0  0 32  0  0  0  0  0  0]\n",
      " [ 0  0  0  0  0  2  0  0  0  0  0  0]\n",
      " [ 0  0  0  0  0  1  0  0  0  0  0  0]\n",
      " [ 0  0  0  0  0  1  0  0  0  0  0  0]\n",
      " [ 0  0  0  0  0  2  0  0  0  0  0  0]\n",
      " [ 0  0  0  0  0  2  0  0  0  0  0  0]\n",
      " [ 0  0  0  0  0  1  0  0  0  0  0  0]]\n",
      "Classification Report:\n",
      "              precision    recall  f1-score   support\n",
      "\n",
      "           0       0.00      0.00      0.00        15\n",
      "           1       0.00      0.00      0.00        18\n",
      "           2       0.00      0.00      0.00        33\n",
      "           3       0.00      0.00      0.00        19\n",
      "           4       0.00      0.00      0.00        16\n",
      "           8       0.23      1.00      0.37        32\n",
      "          16       0.00      0.00      0.00         2\n",
      "          24       0.00      0.00      0.00         1\n",
      "          32       0.00      0.00      0.00         1\n",
      "          40       0.00      0.00      0.00         2\n",
      "          80       0.00      0.00      0.00         2\n",
      "         120       0.00      0.00      0.00         1\n",
      "\n",
      "    accuracy                           0.23       142\n",
      "   macro avg       0.02      0.08      0.03       142\n",
      "weighted avg       0.05      0.23      0.08       142\n",
      "\n",
      "Accuracy:  0.22535211267605634\n"
     ]
    },
    {
     "name": "stderr",
     "output_type": "stream",
     "text": [
      "C:\\Users\\talwi\\Anaconda3\\lib\\site-packages\\sklearn\\svm\\base.py:193: FutureWarning: The default value of gamma will change from 'auto' to 'scale' in version 0.22 to account better for unscaled features. Set gamma explicitly to 'auto' or 'scale' to avoid this warning.\n",
      "  \"avoid this warning.\", FutureWarning)\n",
      "C:\\Users\\talwi\\Anaconda3\\lib\\site-packages\\sklearn\\model_selection\\_split.py:657: Warning: The least populated class in y has only 1 members, which is too few. The minimum number of members in any class cannot be less than n_splits=5.\n",
      "  % (min_groups, self.n_splits)), Warning)\n",
      "C:\\Users\\talwi\\Anaconda3\\lib\\site-packages\\sklearn\\svm\\base.py:193: FutureWarning: The default value of gamma will change from 'auto' to 'scale' in version 0.22 to account better for unscaled features. Set gamma explicitly to 'auto' or 'scale' to avoid this warning.\n",
      "  \"avoid this warning.\", FutureWarning)\n",
      "C:\\Users\\talwi\\Anaconda3\\lib\\site-packages\\sklearn\\svm\\base.py:193: FutureWarning: The default value of gamma will change from 'auto' to 'scale' in version 0.22 to account better for unscaled features. Set gamma explicitly to 'auto' or 'scale' to avoid this warning.\n",
      "  \"avoid this warning.\", FutureWarning)\n",
      "C:\\Users\\talwi\\Anaconda3\\lib\\site-packages\\sklearn\\svm\\base.py:193: FutureWarning: The default value of gamma will change from 'auto' to 'scale' in version 0.22 to account better for unscaled features. Set gamma explicitly to 'auto' or 'scale' to avoid this warning.\n",
      "  \"avoid this warning.\", FutureWarning)\n",
      "C:\\Users\\talwi\\Anaconda3\\lib\\site-packages\\sklearn\\svm\\base.py:193: FutureWarning: The default value of gamma will change from 'auto' to 'scale' in version 0.22 to account better for unscaled features. Set gamma explicitly to 'auto' or 'scale' to avoid this warning.\n",
      "  \"avoid this warning.\", FutureWarning)\n",
      "C:\\Users\\talwi\\Anaconda3\\lib\\site-packages\\sklearn\\svm\\base.py:193: FutureWarning: The default value of gamma will change from 'auto' to 'scale' in version 0.22 to account better for unscaled features. Set gamma explicitly to 'auto' or 'scale' to avoid this warning.\n",
      "  \"avoid this warning.\", FutureWarning)\n",
      "C:\\Users\\talwi\\Anaconda3\\lib\\site-packages\\sklearn\\metrics\\classification.py:1437: UndefinedMetricWarning: Precision and F-score are ill-defined and being set to 0.0 in labels with no predicted samples.\n",
      "  'precision', 'predicted', average, warn_for)\n"
     ]
    }
   ],
   "source": [
    "#Polynomial SVM\n",
    "print('Polynomial Model',end='\\n')\n",
    "psvclassifier = SVC(kernel='poly')\n",
    "psvclassifier.fit(X_train, y_train)\n",
    "\n",
    "#Applying k-Fold Cross Validation\n",
    "accuracies = cross_val_score(estimator = psvclassifier, X = X_train, y = y_train, cv = 5)\n",
    "mean_svm_poly=accuracies.mean()\n",
    "std_svm_poly=accuracies.std()\n",
    "\n",
    "#After using 5 fold cross validation\n",
    "print('After 5 fold cross validation:')\n",
    "print('Mean of Accuracies: ',mean_svm_poly*100,end='\\n')\n",
    "print('Standard deviation of Accuracies',std_svm_poly*100,end='\\n')\n",
    "\n",
    "#Predict SVM\n",
    "y_predp = psvclassifier.predict(X_test)\n",
    "\n",
    "#Confusion Matrix\n",
    "print('Test Output:')\n",
    "print('Confusion Matrix:')\n",
    "print(sk.confusion_matrix(y_test,y_predp))\n",
    "print('Classification Report:')\n",
    "print(sk.classification_report(y_test,y_predp))\n",
    "print('Accuracy: ',sk.accuracy_score(y_test, y_predp, normalize=True, sample_weight=None))"
   ]
  },
  {
   "cell_type": "code",
   "execution_count": 96,
   "metadata": {},
   "outputs": [
    {
     "name": "stdout",
     "output_type": "stream",
     "text": [
      "RBF Model\n",
      "After 5 fold cross validation:"
     ]
    },
    {
     "name": "stderr",
     "output_type": "stream",
     "text": [
      "C:\\Users\\talwi\\Anaconda3\\lib\\site-packages\\sklearn\\svm\\base.py:193: FutureWarning: The default value of gamma will change from 'auto' to 'scale' in version 0.22 to account better for unscaled features. Set gamma explicitly to 'auto' or 'scale' to avoid this warning.\n",
      "  \"avoid this warning.\", FutureWarning)\n",
      "C:\\Users\\talwi\\Anaconda3\\lib\\site-packages\\sklearn\\model_selection\\_split.py:657: Warning: The least populated class in y has only 1 members, which is too few. The minimum number of members in any class cannot be less than n_splits=5.\n",
      "  % (min_groups, self.n_splits)), Warning)\n",
      "C:\\Users\\talwi\\Anaconda3\\lib\\site-packages\\sklearn\\svm\\base.py:193: FutureWarning: The default value of gamma will change from 'auto' to 'scale' in version 0.22 to account better for unscaled features. Set gamma explicitly to 'auto' or 'scale' to avoid this warning.\n",
      "  \"avoid this warning.\", FutureWarning)\n",
      "C:\\Users\\talwi\\Anaconda3\\lib\\site-packages\\sklearn\\svm\\base.py:193: FutureWarning: The default value of gamma will change from 'auto' to 'scale' in version 0.22 to account better for unscaled features. Set gamma explicitly to 'auto' or 'scale' to avoid this warning.\n",
      "  \"avoid this warning.\", FutureWarning)\n",
      "C:\\Users\\talwi\\Anaconda3\\lib\\site-packages\\sklearn\\svm\\base.py:193: FutureWarning: The default value of gamma will change from 'auto' to 'scale' in version 0.22 to account better for unscaled features. Set gamma explicitly to 'auto' or 'scale' to avoid this warning.\n",
      "  \"avoid this warning.\", FutureWarning)\n",
      "C:\\Users\\talwi\\Anaconda3\\lib\\site-packages\\sklearn\\svm\\base.py:193: FutureWarning: The default value of gamma will change from 'auto' to 'scale' in version 0.22 to account better for unscaled features. Set gamma explicitly to 'auto' or 'scale' to avoid this warning.\n",
      "  \"avoid this warning.\", FutureWarning)\n",
      "C:\\Users\\talwi\\Anaconda3\\lib\\site-packages\\sklearn\\svm\\base.py:193: FutureWarning: The default value of gamma will change from 'auto' to 'scale' in version 0.22 to account better for unscaled features. Set gamma explicitly to 'auto' or 'scale' to avoid this warning.\n",
      "  \"avoid this warning.\", FutureWarning)\n"
     ]
    },
    {
     "name": "stdout",
     "output_type": "stream",
     "text": [
      "\n",
      "Mean of Accuracies:  40.93754420426018\n",
      "Standard deviation of Accuracies 3.4541902873673656\n",
      "Test Output:\n",
      "Confusion Matrix:\n",
      "[[14  0  0  0  0  1  0  0  0  0  0  0]\n",
      " [ 0  0  6  0  0 12  0  0  0  0  0  0]\n",
      " [ 0  0 14  0  0 19  0  0  0  0  0  0]\n",
      " [ 0  0  6  0  0 13  0  0  0  0  0  0]\n",
      " [ 0  0  4  0  0 12  0  0  0  0  0  0]\n",
      " [ 0  0  5  0  0 27  0  0  0  0  0  0]\n",
      " [ 0  0  0  0  0  2  0  0  0  0  0  0]\n",
      " [ 0  0  0  0  0  1  0  0  0  0  0  0]\n",
      " [ 0  0  0  0  0  1  0  0  0  0  0  0]\n",
      " [ 0  0  0  0  0  2  0  0  0  0  0  0]\n",
      " [ 0  0  0  0  0  2  0  0  0  0  0  0]\n",
      " [ 0  0  0  0  0  1  0  0  0  0  0  0]]\n",
      "Classification Report:\n",
      "              precision    recall  f1-score   support\n",
      "\n",
      "           0       1.00      0.93      0.97        15\n",
      "           1       0.00      0.00      0.00        18\n",
      "           2       0.40      0.42      0.41        33\n",
      "           3       0.00      0.00      0.00        19\n",
      "           4       0.00      0.00      0.00        16\n",
      "           8       0.29      0.84      0.43        32\n",
      "          16       0.00      0.00      0.00         2\n",
      "          24       0.00      0.00      0.00         1\n",
      "          32       0.00      0.00      0.00         1\n",
      "          40       0.00      0.00      0.00         2\n",
      "          80       0.00      0.00      0.00         2\n",
      "         120       0.00      0.00      0.00         1\n",
      "\n",
      "    accuracy                           0.39       142\n",
      "   macro avg       0.14      0.18      0.15       142\n",
      "weighted avg       0.26      0.39      0.30       142\n",
      "\n",
      "Accuracy:  0.3873239436619718\n"
     ]
    },
    {
     "name": "stderr",
     "output_type": "stream",
     "text": [
      "C:\\Users\\talwi\\Anaconda3\\lib\\site-packages\\sklearn\\metrics\\classification.py:1437: UndefinedMetricWarning: Precision and F-score are ill-defined and being set to 0.0 in labels with no predicted samples.\n",
      "  'precision', 'predicted', average, warn_for)\n"
     ]
    }
   ],
   "source": [
    "#RBF SVM\n",
    "print('RBF Model',end='\\n')\n",
    "rsvclassifier = SVC(kernel='rbf')\n",
    "rsvclassifier.fit(X_train, y_train)\n",
    "\n",
    "#Applying k-Fold Cross Validation\n",
    "accuracies = cross_val_score(estimator = rsvclassifier, X = X_train, y = y_train, cv = 5)\n",
    "mean_svm_rbf=accuracies.mean()\n",
    "std_svm_rbf=accuracies.std()\n",
    "\n",
    "#After using 5 fold cross validation\n",
    "print('After 5 fold cross validation:')\n",
    "print('Mean of Accuracies: ',mean_svm_rbf*100,end='\\n')\n",
    "print('Standard deviation of Accuracies',std_svm_rbf*100,end='\\n')\n",
    "\n",
    "#Predict SVM\n",
    "y_predr = rsvclassifier.predict(X_test)\n",
    "\n",
    "#Confusion Matrix\n",
    "print('Test Output:')\n",
    "print('Confusion Matrix:')\n",
    "print(sk.confusion_matrix(y_test,y_predr))\n",
    "print('Classification Report:')\n",
    "print(sk.classification_report(y_test,y_predr))\n",
    "print('Accuracy: ',sk.accuracy_score(y_test, y_predr, normalize=True, sample_weight=None))"
   ]
  },
  {
   "cell_type": "code",
   "execution_count": null,
   "metadata": {},
   "outputs": [],
   "source": []
  }
 ],
 "metadata": {
  "kernelspec": {
   "display_name": "Python 3",
   "language": "python",
   "name": "python3"
  },
  "language_info": {
   "codemirror_mode": {
    "name": "ipython",
    "version": 3
   },
   "file_extension": ".py",
   "mimetype": "text/x-python",
   "name": "python",
   "nbconvert_exporter": "python",
   "pygments_lexer": "ipython3",
   "version": "3.8.5"
  }
 },
 "nbformat": 4,
 "nbformat_minor": 2
}
